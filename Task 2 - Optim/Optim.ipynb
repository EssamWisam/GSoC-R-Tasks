{
 "cells": [
  {
   "attachments": {},
   "cell_type": "markdown",
   "metadata": {},
   "source": [
    "## Finding Several Local Minima using Optim"
   ]
  },
  {
   "attachments": {},
   "cell_type": "markdown",
   "metadata": {},
   "source": [
    "Okay. Now checking the documentation for Optim, the interface seems to support 6 different optimization algoritms. And quite oddly none of which is gradient descent. At least there is limited memory BFGS, so let's go for that."
   ]
  },
  {
   "cell_type": "code",
   "execution_count": 1,
   "metadata": {
    "vscode": {
     "languageId": "r"
    }
   },
   "outputs": [
    {
     "data": {
      "text/html": [
       "<table class=\"dataframe\">\n",
       "<caption>A matrix: 5 × 3 of type chr</caption>\n",
       "<thead>\n",
       "\t<tr><th scope=col>initial_value</th><th scope=col>optimized_value</th><th scope=col>minimum_value</th></tr>\n",
       "</thead>\n",
       "<tbody>\n",
       "\t<tr><td>(1.11, 2.9)</td><td>(0.99, 2.97)    </td><td>9.899 </td></tr>\n",
       "\t<tr><td>(3.3, 12)  </td><td>(-7.916, -4.949)</td><td>88.091</td></tr>\n",
       "\t<tr><td>(6, 3)     </td><td>(2.97, 0)       </td><td>8.909 </td></tr>\n",
       "\t<tr><td>(12, 16)   </td><td>(0, 0)          </td><td>0     </td></tr>\n",
       "\t<tr><td>(0.3, 0.4) </td><td>(-0.99, 0)      </td><td>0.99  </td></tr>\n",
       "</tbody>\n",
       "</table>\n"
      ],
      "text/latex": [
       "A matrix: 5 × 3 of type chr\n",
       "\\begin{tabular}{lll}\n",
       " initial\\_value & optimized\\_value & minimum\\_value\\\\\n",
       "\\hline\n",
       "\t (1.11, 2.9) & (0.99, 2.97)     & 9.899 \\\\\n",
       "\t (3.3, 12)   & (-7.916, -4.949) & 88.091\\\\\n",
       "\t (6, 3)      & (2.97, 0)        & 8.909 \\\\\n",
       "\t (12, 16)    & (0, 0)           & 0     \\\\\n",
       "\t (0.3, 0.4)  & (-0.99, 0)       & 0.99  \\\\\n",
       "\\end{tabular}\n"
      ],
      "text/markdown": [
       "\n",
       "A matrix: 5 × 3 of type chr\n",
       "\n",
       "| initial_value | optimized_value | minimum_value |\n",
       "|---|---|---|\n",
       "| (1.11, 2.9) | (0.99, 2.97)     | 9.899  |\n",
       "| (3.3, 12)   | (-7.916, -4.949) | 88.091 |\n",
       "| (6, 3)      | (2.97, 0)        | 8.909  |\n",
       "| (12, 16)    | (0, 0)           | 0      |\n",
       "| (0.3, 0.4)  | (-0.99, 0)       | 0.99   |\n",
       "\n"
      ],
      "text/plain": [
       "     initial_value optimized_value  minimum_value\n",
       "[1,] (1.11, 2.9)   (0.99, 2.97)     9.899        \n",
       "[2,] (3.3, 12)     (-7.916, -4.949) 88.091       \n",
       "[3,] (6, 3)        (2.97, 0)        8.909        \n",
       "[4,] (12, 16)      (0, 0)           0            \n",
       "[5,] (0.3, 0.4)    (-0.99, 0)       0.99         "
      ]
     },
     "metadata": {},
     "output_type": "display_data"
    }
   ],
   "source": [
    "# Define the Rastrigin function (N dimensions this time)\n",
    "Rastrigin <- function(x, n=2, A=5)    A*n + sum(x^2 - A*cos(2*pi*x))\n",
    "\n",
    "# Method will be L-BFGS-B\n",
    "method <- \"L-BFGS-B\"\n",
    "\n",
    "# Set a vector of initial values (formally, one would generate these randomly)\n",
    "initial_values <- list(c(1.11, 2.9), c(3.3, 12), c(6, 3), c(12, 16), c(0.3, 0.4))\n",
    "\n",
    "# Lets make a table for the results\n",
    "column_names <- c(\"initial_value\", \"optimized_value\", \"minimum_value\")\n",
    "results <- matrix(NA, nrow = length(initial_values), ncol = 3, dimnames = list(NULL, column_names))\n",
    "\n",
    "# Loop through each initial value and run the optimization\n",
    "for (i in 1:length(initial_values)) {\n",
    "\n",
    "  # Run the optimization (assume 1000 iterations is enough)\n",
    "  result <- optim(par = initial_values[[i]], fn = Rastrigin, method = method, control = list(maxit = 1000))\n",
    "\n",
    "  # Store the results\n",
    "  results[i, \"initial_value\"] <- paste(\"(\", paste(initial_values[[i]], collapse = \", \"), \")\", sep = \"\")\n",
    "  results[i, \"optimized_value\"] <- paste(\"(\", paste(round(result$par, 3), collapse = \", \"), \")\", sep = \"\")\n",
    "  results[i, \"minimum_value\"] <- round(result$value, 3)\n",
    "}\n",
    "\n",
    "results\n"
   ]
  },
  {
   "attachments": {},
   "cell_type": "markdown",
   "metadata": {},
   "source": [
    "Interesting results. It's hard to tell what BFGS was thinking when it decided to converge to the local minimum at $(x, y) = (0, 0)$ from $(x, y) = (12, 16)$."
   ]
  },
  {
   "attachments": {},
   "cell_type": "markdown",
   "metadata": {},
   "source": [
    "Now let's try the other algorithms provided by Optim. "
   ]
  },
  {
   "cell_type": "code",
   "execution_count": 2,
   "metadata": {
    "vscode": {
     "languageId": "r"
    }
   },
   "outputs": [
    {
     "data": {
      "text/html": [
       "<table class=\"dataframe\">\n",
       "<caption>A matrix: 4 × 3 of type chr</caption>\n",
       "<thead>\n",
       "\t<tr><th scope=col>method</th><th scope=col>optimized_value</th><th scope=col>minimum_value</th></tr>\n",
       "</thead>\n",
       "<tbody>\n",
       "\t<tr><td>BFGS       </td><td>(0.99, 1.98)  </td><td>4.95 </td></tr>\n",
       "\t<tr><td>SANN       </td><td>(0.987, 0.004)</td><td>0.993</td></tr>\n",
       "\t<tr><td>CG         </td><td>(0.99, 2.97)  </td><td>9.899</td></tr>\n",
       "\t<tr><td>Nelder-Mead</td><td>(0.99, 2.97)  </td><td>9.899</td></tr>\n",
       "</tbody>\n",
       "</table>\n"
      ],
      "text/latex": [
       "A matrix: 4 × 3 of type chr\n",
       "\\begin{tabular}{lll}\n",
       " method & optimized\\_value & minimum\\_value\\\\\n",
       "\\hline\n",
       "\t BFGS        & (0.99, 1.98)   & 4.95 \\\\\n",
       "\t SANN        & (0.987, 0.004) & 0.993\\\\\n",
       "\t CG          & (0.99, 2.97)   & 9.899\\\\\n",
       "\t Nelder-Mead & (0.99, 2.97)   & 9.899\\\\\n",
       "\\end{tabular}\n"
      ],
      "text/markdown": [
       "\n",
       "A matrix: 4 × 3 of type chr\n",
       "\n",
       "| method | optimized_value | minimum_value |\n",
       "|---|---|---|\n",
       "| BFGS        | (0.99, 1.98)   | 4.95  |\n",
       "| SANN        | (0.987, 0.004) | 0.993 |\n",
       "| CG          | (0.99, 2.97)   | 9.899 |\n",
       "| Nelder-Mead | (0.99, 2.97)   | 9.899 |\n",
       "\n"
      ],
      "text/plain": [
       "     method      optimized_value minimum_value\n",
       "[1,] BFGS        (0.99, 1.98)    4.95         \n",
       "[2,] SANN        (0.987, 0.004)  0.993        \n",
       "[3,] CG          (0.99, 2.97)    9.899        \n",
       "[4,] Nelder-Mead (0.99, 2.97)    9.899        "
      ]
     },
     "metadata": {},
     "output_type": "display_data"
    }
   ],
   "source": [
    "# Initial valuem\n",
    "initial_value <- c(1.11, 2.9)\n",
    "\n",
    "# The 5th algorithm, Brent only works for 1D functions\n",
    "methods <- c(\"BFGS\", \"SANN\", \"CG\", \"Nelder-Mead\")\n",
    "\n",
    "# Lets make a table for the results\n",
    "column_names <- c(\"method\", \"optimized_value\", \"minimum_value\")\n",
    "results <- matrix(NA, nrow = length(methods), ncol = 3, dimnames = list(NULL, column_names))\n",
    "\n",
    "# Loop through each method and run the optimization\n",
    "for (i in 1:length(methods)) {\n",
    "\n",
    "  # Run the optimization\n",
    "  result <- optim(par = initial_value, fn = Rastrigin, method = methods[i], control = list(maxit = 1000))\n",
    "\n",
    "  # Store the results\n",
    "  results[i, \"method\"] <- methods[i]\n",
    "  results[i, \"optimized_value\"] <- paste(\"(\", paste(round(result$par, 3), collapse = \", \"), \")\", sep = \"\")\n",
    "  results[i, \"minimum_value\"] <- round(result$value, 3)\n",
    "}\n",
    "results\n"
   ]
  },
  {
   "attachments": {},
   "cell_type": "markdown",
   "metadata": {},
   "source": [
    "It's obvious here that SANN has the most spectacular results. It makes sense once you realize that its the only stochastic algorithm supported by optim."
   ]
  }
 ],
 "metadata": {
  "kernelspec": {
   "display_name": "R",
   "language": "R",
   "name": "ir"
  },
  "language_info": {
   "codemirror_mode": "r",
   "file_extension": ".r",
   "mimetype": "text/x-r-source",
   "name": "R",
   "pygments_lexer": "r",
   "version": "4.2.2"
  },
  "orig_nbformat": 4
 },
 "nbformat": 4,
 "nbformat_minor": 2
}
